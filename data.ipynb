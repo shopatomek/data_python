{
 "cells": [
  {
   "cell_type": "markdown",
   "id": "31b6129e",
   "metadata": {
    "vscode": {
     "languageId": "plaintext"
    }
   },
   "source": [
    "# DATA\n",
    "https://www.youtube.com/watch?v=HrRA67O-QXI&ab_channel=VisualStudioCode\n",
    "Analiza Danych"
   ]
  },
  {
   "cell_type": "code",
   "execution_count": 2,
   "id": "13bfadb5",
   "metadata": {},
   "outputs": [
    {
     "name": "stdout",
     "output_type": "stream",
     "text": [
      "[12, 34, 56, 78, 90, 11, 22, 33, 44, 55, 66, 77, 88, 99, 10, 13, 24, 35, 46, 57, 68, 79]\n"
     ]
    }
   ],
   "source": [
    "data = [12, 34, 56, 78, 90, 11, 22, 33, 44, 55, 66, 77, 88, 99, 10, 13, 24, 35, 46, 57, 68, 79]\n",
    "print(data)\n"
   ]
  },
  {
   "cell_type": "code",
   "execution_count": 3,
   "id": "52f9bc17",
   "metadata": {},
   "outputs": [
    {
     "name": "stdout",
     "output_type": "stream",
     "text": [
      "[ 5.68720379 16.11374408 26.54028436 36.96682464 42.65402844  5.21327014\n",
      " 10.42654028 15.63981043 20.85308057 26.06635071 31.27962085 36.492891\n",
      " 41.70616114 46.91943128  4.73933649  6.16113744 11.37440758 16.58767773\n",
      " 21.80094787 27.01421801 32.22748815 37.44075829]\n"
     ]
    }
   ],
   "source": [
    "import numpy as np\n",
    "grades = np.array(data)\n",
    "print(grades / 2.11)"
   ]
  }
 ],
 "metadata": {
  "kernelspec": {
   "display_name": "Python 3",
   "language": "python",
   "name": "python3"
  },
  "language_info": {
   "codemirror_mode": {
    "name": "ipython",
    "version": 3
   },
   "file_extension": ".py",
   "mimetype": "text/x-python",
   "name": "python",
   "nbconvert_exporter": "python",
   "pygments_lexer": "ipython3",
   "version": "3.12.3"
  }
 },
 "nbformat": 4,
 "nbformat_minor": 5
}
