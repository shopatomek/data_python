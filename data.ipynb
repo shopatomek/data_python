{
   "cells": [
      {
         "cell_type": "markdown",
         "id": "31b6129e",
         "metadata": {
            "vscode": {
               "languageId": "plaintext"
            }
         },
         "source": [
            "# DATA\n",
            "\n",
            "Analiza Danych"
         ]
      },
      {
         "cell_type": "code",
         "execution_count": 1,
         "id": "13bfadb5",
         "metadata": {},
         "outputs": [
            {
               "name": "stdout",
               "output_type": "stream",
               "text": [
                  "[12, 34, 56, 78, 90, 11, 22, 33, 44, 55, 66, 77, 88, 99, 10, 13, 24, 35, 46, 57, 68, 79]\n"
               ]
            }
         ],
         "source": [
            "data = [12, 34, 56, 78, 90, 11, 22, 33, 44, 55, 66, 77, 88, 99, 10, 13, 24, 35, 46, 57, 68, 79]\n",
            "print(data)\n"
         ]
      },
      {
         "cell_type": "code",
         "execution_count": 8,
         "id": "52f9bc17",
         "metadata": {},
         "outputs": [
            {
               "name": "stdout",
               "output_type": "stream",
               "text": [
                  "[ 6.  17.  28.  39.  45.   5.5 11.  16.5 22.  27.5 33.  38.5 44.  49.5\n",
                  "  5.   6.5 12.  17.5 23.  28.5 34.  39.5]\n"
               ]
            },
            {
               "data": {
                  "text/plain": [
                     "1.2"
                  ]
               },
               "execution_count": 8,
               "metadata": {},
               "output_type": "execute_result"
            }
         ],
         "source": [
            "import numpy as np\n",
            "grades = np.array(data)\n",
            "print(grades / 2)\n",
            "grades.mean()\n",
            "hours = [1.2, 3.4, 5.6, 7.8, 9.0, 1.1, 2.2, 3.3, 4.4, 5.5,\n",
            "         6.6, 7.7, 8.8, 9.9, 1.0, 1.3, 2.4, 3.5, 4.6, 5.7, 6.8, 7.9]\n",
            "study_hours = np.array(hours)\n",
            "student_data = np.array([study_hours, grades])\n",
            "student_data[0][0]"
         ]
      }
   ],
   "metadata": {
      "kernelspec": {
         "display_name": "Python 3",
         "language": "python",
         "name": "python3"
      },
      "language_info": {
         "codemirror_mode": {
            "name": "ipython",
            "version": 3
         },
         "file_extension": ".py",
         "mimetype": "text/x-python",
         "name": "python",
         "nbconvert_exporter": "python",
         "pygments_lexer": "ipython3",
         "version": "3.12.3"
      }
   },
   "nbformat": 4,
   "nbformat_minor": 5
}
